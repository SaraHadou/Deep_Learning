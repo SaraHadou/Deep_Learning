{
  "nbformat": 4,
  "nbformat_minor": 0,
  "metadata": {
    "colab": {
      "name": "Churn_Modeling_Using_ANN.ipynb",
      "provenance": [],
      "collapsed_sections": []
    },
    "kernelspec": {
      "name": "python3",
      "display_name": "Python 3"
    },
    "language_info": {
      "name": "python"
    }
  },
  "cells": [
    {
      "cell_type": "code",
      "metadata": {
        "id": "BtD0rQ6aj1re"
      },
      "source": [
        "DATA_PATH = \"https://raw.githubusercontent.com/SaraHadou/Datasets/main/churn_modeling.csv\""
      ],
      "execution_count": null,
      "outputs": []
    },
    {
      "cell_type": "code",
      "metadata": {
        "id": "KMec6PRnjJhE"
      },
      "source": [
        "# import important packages\n",
        "\n",
        "import pandas as pd\n",
        "import numpy as np\n",
        "\n",
        "# Make numpy values easier to read.\n",
        "np.set_printoptions(precision=3, suppress=True)\n",
        "\n",
        "import tensorflow as tf\n",
        "from tensorflow.keras import layers\n",
        "from tensorflow import keras\n",
        "\n",
        "from sklearn.model_selection import train_test_split\n",
        "\n",
        "import matplotlib.pyplot as plt\n"
      ],
      "execution_count": null,
      "outputs": []
    },
    {
      "cell_type": "code",
      "metadata": {
        "colab": {
          "base_uri": "https://localhost:8080/",
          "height": 204
        },
        "id": "FRv6VCk5kuFD",
        "outputId": "fd5b7134-a941-431d-bae4-422f8ff50052"
      },
      "source": [
        "# Read churn_modeling.csv file\n",
        "churn_dataset =  pd.read_csv(DATA_PATH)\n",
        "churn_dataset.head()"
      ],
      "execution_count": null,
      "outputs": [
        {
          "output_type": "execute_result",
          "data": {
            "text/html": [
              "<div>\n",
              "<style scoped>\n",
              "    .dataframe tbody tr th:only-of-type {\n",
              "        vertical-align: middle;\n",
              "    }\n",
              "\n",
              "    .dataframe tbody tr th {\n",
              "        vertical-align: top;\n",
              "    }\n",
              "\n",
              "    .dataframe thead th {\n",
              "        text-align: right;\n",
              "    }\n",
              "</style>\n",
              "<table border=\"1\" class=\"dataframe\">\n",
              "  <thead>\n",
              "    <tr style=\"text-align: right;\">\n",
              "      <th></th>\n",
              "      <th>RowNumber</th>\n",
              "      <th>CustomerId</th>\n",
              "      <th>Surname</th>\n",
              "      <th>CreditScore</th>\n",
              "      <th>Geography</th>\n",
              "      <th>Gender</th>\n",
              "      <th>Age</th>\n",
              "      <th>Tenure</th>\n",
              "      <th>Balance</th>\n",
              "      <th>NumOfProducts</th>\n",
              "      <th>HasCrCard</th>\n",
              "      <th>IsActiveMember</th>\n",
              "      <th>EstimatedSalary</th>\n",
              "      <th>Exited</th>\n",
              "    </tr>\n",
              "  </thead>\n",
              "  <tbody>\n",
              "    <tr>\n",
              "      <th>0</th>\n",
              "      <td>1</td>\n",
              "      <td>15634602</td>\n",
              "      <td>Hargrave</td>\n",
              "      <td>619</td>\n",
              "      <td>France</td>\n",
              "      <td>Female</td>\n",
              "      <td>42</td>\n",
              "      <td>2</td>\n",
              "      <td>0.00</td>\n",
              "      <td>1</td>\n",
              "      <td>1</td>\n",
              "      <td>1</td>\n",
              "      <td>101348.88</td>\n",
              "      <td>1</td>\n",
              "    </tr>\n",
              "    <tr>\n",
              "      <th>1</th>\n",
              "      <td>2</td>\n",
              "      <td>15647311</td>\n",
              "      <td>Hill</td>\n",
              "      <td>608</td>\n",
              "      <td>Spain</td>\n",
              "      <td>Female</td>\n",
              "      <td>41</td>\n",
              "      <td>1</td>\n",
              "      <td>83807.86</td>\n",
              "      <td>1</td>\n",
              "      <td>0</td>\n",
              "      <td>1</td>\n",
              "      <td>112542.58</td>\n",
              "      <td>0</td>\n",
              "    </tr>\n",
              "    <tr>\n",
              "      <th>2</th>\n",
              "      <td>3</td>\n",
              "      <td>15619304</td>\n",
              "      <td>Onio</td>\n",
              "      <td>502</td>\n",
              "      <td>France</td>\n",
              "      <td>Female</td>\n",
              "      <td>42</td>\n",
              "      <td>8</td>\n",
              "      <td>159660.80</td>\n",
              "      <td>3</td>\n",
              "      <td>1</td>\n",
              "      <td>0</td>\n",
              "      <td>113931.57</td>\n",
              "      <td>1</td>\n",
              "    </tr>\n",
              "    <tr>\n",
              "      <th>3</th>\n",
              "      <td>4</td>\n",
              "      <td>15701354</td>\n",
              "      <td>Boni</td>\n",
              "      <td>699</td>\n",
              "      <td>France</td>\n",
              "      <td>Female</td>\n",
              "      <td>39</td>\n",
              "      <td>1</td>\n",
              "      <td>0.00</td>\n",
              "      <td>2</td>\n",
              "      <td>0</td>\n",
              "      <td>0</td>\n",
              "      <td>93826.63</td>\n",
              "      <td>0</td>\n",
              "    </tr>\n",
              "    <tr>\n",
              "      <th>4</th>\n",
              "      <td>5</td>\n",
              "      <td>15737888</td>\n",
              "      <td>Mitchell</td>\n",
              "      <td>850</td>\n",
              "      <td>Spain</td>\n",
              "      <td>Female</td>\n",
              "      <td>43</td>\n",
              "      <td>2</td>\n",
              "      <td>125510.82</td>\n",
              "      <td>1</td>\n",
              "      <td>1</td>\n",
              "      <td>1</td>\n",
              "      <td>79084.10</td>\n",
              "      <td>0</td>\n",
              "    </tr>\n",
              "  </tbody>\n",
              "</table>\n",
              "</div>"
            ],
            "text/plain": [
              "   RowNumber  CustomerId   Surname  ...  IsActiveMember EstimatedSalary Exited\n",
              "0          1    15634602  Hargrave  ...               1       101348.88      1\n",
              "1          2    15647311      Hill  ...               1       112542.58      0\n",
              "2          3    15619304      Onio  ...               0       113931.57      1\n",
              "3          4    15701354      Boni  ...               0        93826.63      0\n",
              "4          5    15737888  Mitchell  ...               1        79084.10      0\n",
              "\n",
              "[5 rows x 14 columns]"
            ]
          },
          "metadata": {},
          "execution_count": 3
        }
      ]
    },
    {
      "cell_type": "markdown",
      "metadata": {
        "id": "rpE1zYhsoQDl"
      },
      "source": [
        ""
      ]
    },
    {
      "cell_type": "code",
      "metadata": {
        "colab": {
          "base_uri": "https://localhost:8080/"
        },
        "id": "_OOuVoBSlYa-",
        "outputId": "8af443c0-cc73-479c-976c-708e8b39ad6e"
      },
      "source": [
        "# Shape of churn_dataset\n",
        "churn_dataset.shape"
      ],
      "execution_count": null,
      "outputs": [
        {
          "output_type": "execute_result",
          "data": {
            "text/plain": [
              "(10000, 14)"
            ]
          },
          "metadata": {},
          "execution_count": 4
        }
      ]
    },
    {
      "cell_type": "code",
      "metadata": {
        "colab": {
          "base_uri": "https://localhost:8080/"
        },
        "id": "JOVurUoPp-PB",
        "outputId": "87ecd5b9-7657-42a7-9363-5d9968374d5b"
      },
      "source": [
        "# Information about churn_dataset\n",
        "churn_dataset.info()"
      ],
      "execution_count": null,
      "outputs": [
        {
          "output_type": "stream",
          "name": "stdout",
          "text": [
            "<class 'pandas.core.frame.DataFrame'>\n",
            "RangeIndex: 10000 entries, 0 to 9999\n",
            "Data columns (total 14 columns):\n",
            " #   Column           Non-Null Count  Dtype  \n",
            "---  ------           --------------  -----  \n",
            " 0   RowNumber        10000 non-null  int64  \n",
            " 1   CustomerId       10000 non-null  int64  \n",
            " 2   Surname          10000 non-null  object \n",
            " 3   CreditScore      10000 non-null  int64  \n",
            " 4   Geography        10000 non-null  object \n",
            " 5   Gender           10000 non-null  object \n",
            " 6   Age              10000 non-null  int64  \n",
            " 7   Tenure           10000 non-null  int64  \n",
            " 8   Balance          10000 non-null  float64\n",
            " 9   NumOfProducts    10000 non-null  int64  \n",
            " 10  HasCrCard        10000 non-null  int64  \n",
            " 11  IsActiveMember   10000 non-null  int64  \n",
            " 12  EstimatedSalary  10000 non-null  float64\n",
            " 13  Exited           10000 non-null  int64  \n",
            "dtypes: float64(2), int64(9), object(3)\n",
            "memory usage: 1.1+ MB\n"
          ]
        }
      ]
    },
    {
      "cell_type": "code",
      "metadata": {
        "colab": {
          "base_uri": "https://localhost:8080/",
          "height": 390
        },
        "id": "2rOXID3WqNYA",
        "outputId": "4b7482f0-b12a-48ab-a597-6890ff847319"
      },
      "source": [
        "# Statistics information about churn_dataset\n",
        "churn_dataset.describe().T"
      ],
      "execution_count": null,
      "outputs": [
        {
          "output_type": "execute_result",
          "data": {
            "text/html": [
              "<div>\n",
              "<style scoped>\n",
              "    .dataframe tbody tr th:only-of-type {\n",
              "        vertical-align: middle;\n",
              "    }\n",
              "\n",
              "    .dataframe tbody tr th {\n",
              "        vertical-align: top;\n",
              "    }\n",
              "\n",
              "    .dataframe thead th {\n",
              "        text-align: right;\n",
              "    }\n",
              "</style>\n",
              "<table border=\"1\" class=\"dataframe\">\n",
              "  <thead>\n",
              "    <tr style=\"text-align: right;\">\n",
              "      <th></th>\n",
              "      <th>count</th>\n",
              "      <th>mean</th>\n",
              "      <th>std</th>\n",
              "      <th>min</th>\n",
              "      <th>25%</th>\n",
              "      <th>50%</th>\n",
              "      <th>75%</th>\n",
              "      <th>max</th>\n",
              "    </tr>\n",
              "  </thead>\n",
              "  <tbody>\n",
              "    <tr>\n",
              "      <th>RowNumber</th>\n",
              "      <td>10000.0</td>\n",
              "      <td>5.000500e+03</td>\n",
              "      <td>2886.895680</td>\n",
              "      <td>1.00</td>\n",
              "      <td>2500.75</td>\n",
              "      <td>5.000500e+03</td>\n",
              "      <td>7.500250e+03</td>\n",
              "      <td>10000.00</td>\n",
              "    </tr>\n",
              "    <tr>\n",
              "      <th>CustomerId</th>\n",
              "      <td>10000.0</td>\n",
              "      <td>1.569094e+07</td>\n",
              "      <td>71936.186123</td>\n",
              "      <td>15565701.00</td>\n",
              "      <td>15628528.25</td>\n",
              "      <td>1.569074e+07</td>\n",
              "      <td>1.575323e+07</td>\n",
              "      <td>15815690.00</td>\n",
              "    </tr>\n",
              "    <tr>\n",
              "      <th>CreditScore</th>\n",
              "      <td>10000.0</td>\n",
              "      <td>6.505288e+02</td>\n",
              "      <td>96.653299</td>\n",
              "      <td>350.00</td>\n",
              "      <td>584.00</td>\n",
              "      <td>6.520000e+02</td>\n",
              "      <td>7.180000e+02</td>\n",
              "      <td>850.00</td>\n",
              "    </tr>\n",
              "    <tr>\n",
              "      <th>Age</th>\n",
              "      <td>10000.0</td>\n",
              "      <td>3.892180e+01</td>\n",
              "      <td>10.487806</td>\n",
              "      <td>18.00</td>\n",
              "      <td>32.00</td>\n",
              "      <td>3.700000e+01</td>\n",
              "      <td>4.400000e+01</td>\n",
              "      <td>92.00</td>\n",
              "    </tr>\n",
              "    <tr>\n",
              "      <th>Tenure</th>\n",
              "      <td>10000.0</td>\n",
              "      <td>5.012800e+00</td>\n",
              "      <td>2.892174</td>\n",
              "      <td>0.00</td>\n",
              "      <td>3.00</td>\n",
              "      <td>5.000000e+00</td>\n",
              "      <td>7.000000e+00</td>\n",
              "      <td>10.00</td>\n",
              "    </tr>\n",
              "    <tr>\n",
              "      <th>Balance</th>\n",
              "      <td>10000.0</td>\n",
              "      <td>7.648589e+04</td>\n",
              "      <td>62397.405202</td>\n",
              "      <td>0.00</td>\n",
              "      <td>0.00</td>\n",
              "      <td>9.719854e+04</td>\n",
              "      <td>1.276442e+05</td>\n",
              "      <td>250898.09</td>\n",
              "    </tr>\n",
              "    <tr>\n",
              "      <th>NumOfProducts</th>\n",
              "      <td>10000.0</td>\n",
              "      <td>1.530200e+00</td>\n",
              "      <td>0.581654</td>\n",
              "      <td>1.00</td>\n",
              "      <td>1.00</td>\n",
              "      <td>1.000000e+00</td>\n",
              "      <td>2.000000e+00</td>\n",
              "      <td>4.00</td>\n",
              "    </tr>\n",
              "    <tr>\n",
              "      <th>HasCrCard</th>\n",
              "      <td>10000.0</td>\n",
              "      <td>7.055000e-01</td>\n",
              "      <td>0.455840</td>\n",
              "      <td>0.00</td>\n",
              "      <td>0.00</td>\n",
              "      <td>1.000000e+00</td>\n",
              "      <td>1.000000e+00</td>\n",
              "      <td>1.00</td>\n",
              "    </tr>\n",
              "    <tr>\n",
              "      <th>IsActiveMember</th>\n",
              "      <td>10000.0</td>\n",
              "      <td>5.151000e-01</td>\n",
              "      <td>0.499797</td>\n",
              "      <td>0.00</td>\n",
              "      <td>0.00</td>\n",
              "      <td>1.000000e+00</td>\n",
              "      <td>1.000000e+00</td>\n",
              "      <td>1.00</td>\n",
              "    </tr>\n",
              "    <tr>\n",
              "      <th>EstimatedSalary</th>\n",
              "      <td>10000.0</td>\n",
              "      <td>1.000902e+05</td>\n",
              "      <td>57510.492818</td>\n",
              "      <td>11.58</td>\n",
              "      <td>51002.11</td>\n",
              "      <td>1.001939e+05</td>\n",
              "      <td>1.493882e+05</td>\n",
              "      <td>199992.48</td>\n",
              "    </tr>\n",
              "    <tr>\n",
              "      <th>Exited</th>\n",
              "      <td>10000.0</td>\n",
              "      <td>2.037000e-01</td>\n",
              "      <td>0.402769</td>\n",
              "      <td>0.00</td>\n",
              "      <td>0.00</td>\n",
              "      <td>0.000000e+00</td>\n",
              "      <td>0.000000e+00</td>\n",
              "      <td>1.00</td>\n",
              "    </tr>\n",
              "  </tbody>\n",
              "</table>\n",
              "</div>"
            ],
            "text/plain": [
              "                   count          mean  ...           75%          max\n",
              "RowNumber        10000.0  5.000500e+03  ...  7.500250e+03     10000.00\n",
              "CustomerId       10000.0  1.569094e+07  ...  1.575323e+07  15815690.00\n",
              "CreditScore      10000.0  6.505288e+02  ...  7.180000e+02       850.00\n",
              "Age              10000.0  3.892180e+01  ...  4.400000e+01        92.00\n",
              "Tenure           10000.0  5.012800e+00  ...  7.000000e+00        10.00\n",
              "Balance          10000.0  7.648589e+04  ...  1.276442e+05    250898.09\n",
              "NumOfProducts    10000.0  1.530200e+00  ...  2.000000e+00         4.00\n",
              "HasCrCard        10000.0  7.055000e-01  ...  1.000000e+00         1.00\n",
              "IsActiveMember   10000.0  5.151000e-01  ...  1.000000e+00         1.00\n",
              "EstimatedSalary  10000.0  1.000902e+05  ...  1.493882e+05    199992.48\n",
              "Exited           10000.0  2.037000e-01  ...  0.000000e+00         1.00\n",
              "\n",
              "[11 rows x 8 columns]"
            ]
          },
          "metadata": {},
          "execution_count": 6
        }
      ]
    },
    {
      "cell_type": "markdown",
      "metadata": {
        "id": "Otdj9vMfqv6P"
      },
      "source": [
        "## Preprocessing:"
      ]
    },
    {
      "cell_type": "code",
      "metadata": {
        "id": "tpJvBuvYqkXy"
      },
      "source": [
        "# OHE for Geography and Gender features \n",
        "geography = pd.get_dummies(churn_dataset[\"Geography\"])\n",
        "gender = pd.get_dummies(churn_dataset[\"Gender\"])\n",
        "churn_dataset = pd.concat([geography, gender, churn_dataset], axis=1)"
      ],
      "execution_count": null,
      "outputs": []
    },
    {
      "cell_type": "code",
      "metadata": {
        "colab": {
          "base_uri": "https://localhost:8080/",
          "height": 241
        },
        "id": "Sr9-A23uq9tv",
        "outputId": "2beef761-cc71-4dc8-c47a-24c1813625a4"
      },
      "source": [
        "print(churn_dataset.shape)\n",
        "churn_dataset.head()"
      ],
      "execution_count": null,
      "outputs": [
        {
          "output_type": "stream",
          "name": "stdout",
          "text": [
            "(10000, 19)\n"
          ]
        },
        {
          "output_type": "execute_result",
          "data": {
            "text/html": [
              "<div>\n",
              "<style scoped>\n",
              "    .dataframe tbody tr th:only-of-type {\n",
              "        vertical-align: middle;\n",
              "    }\n",
              "\n",
              "    .dataframe tbody tr th {\n",
              "        vertical-align: top;\n",
              "    }\n",
              "\n",
              "    .dataframe thead th {\n",
              "        text-align: right;\n",
              "    }\n",
              "</style>\n",
              "<table border=\"1\" class=\"dataframe\">\n",
              "  <thead>\n",
              "    <tr style=\"text-align: right;\">\n",
              "      <th></th>\n",
              "      <th>France</th>\n",
              "      <th>Germany</th>\n",
              "      <th>Spain</th>\n",
              "      <th>Female</th>\n",
              "      <th>Male</th>\n",
              "      <th>RowNumber</th>\n",
              "      <th>CustomerId</th>\n",
              "      <th>Surname</th>\n",
              "      <th>CreditScore</th>\n",
              "      <th>Geography</th>\n",
              "      <th>Gender</th>\n",
              "      <th>Age</th>\n",
              "      <th>Tenure</th>\n",
              "      <th>Balance</th>\n",
              "      <th>NumOfProducts</th>\n",
              "      <th>HasCrCard</th>\n",
              "      <th>IsActiveMember</th>\n",
              "      <th>EstimatedSalary</th>\n",
              "      <th>Exited</th>\n",
              "    </tr>\n",
              "  </thead>\n",
              "  <tbody>\n",
              "    <tr>\n",
              "      <th>0</th>\n",
              "      <td>1</td>\n",
              "      <td>0</td>\n",
              "      <td>0</td>\n",
              "      <td>1</td>\n",
              "      <td>0</td>\n",
              "      <td>1</td>\n",
              "      <td>15634602</td>\n",
              "      <td>Hargrave</td>\n",
              "      <td>619</td>\n",
              "      <td>France</td>\n",
              "      <td>Female</td>\n",
              "      <td>42</td>\n",
              "      <td>2</td>\n",
              "      <td>0.00</td>\n",
              "      <td>1</td>\n",
              "      <td>1</td>\n",
              "      <td>1</td>\n",
              "      <td>101348.88</td>\n",
              "      <td>1</td>\n",
              "    </tr>\n",
              "    <tr>\n",
              "      <th>1</th>\n",
              "      <td>0</td>\n",
              "      <td>0</td>\n",
              "      <td>1</td>\n",
              "      <td>1</td>\n",
              "      <td>0</td>\n",
              "      <td>2</td>\n",
              "      <td>15647311</td>\n",
              "      <td>Hill</td>\n",
              "      <td>608</td>\n",
              "      <td>Spain</td>\n",
              "      <td>Female</td>\n",
              "      <td>41</td>\n",
              "      <td>1</td>\n",
              "      <td>83807.86</td>\n",
              "      <td>1</td>\n",
              "      <td>0</td>\n",
              "      <td>1</td>\n",
              "      <td>112542.58</td>\n",
              "      <td>0</td>\n",
              "    </tr>\n",
              "    <tr>\n",
              "      <th>2</th>\n",
              "      <td>1</td>\n",
              "      <td>0</td>\n",
              "      <td>0</td>\n",
              "      <td>1</td>\n",
              "      <td>0</td>\n",
              "      <td>3</td>\n",
              "      <td>15619304</td>\n",
              "      <td>Onio</td>\n",
              "      <td>502</td>\n",
              "      <td>France</td>\n",
              "      <td>Female</td>\n",
              "      <td>42</td>\n",
              "      <td>8</td>\n",
              "      <td>159660.80</td>\n",
              "      <td>3</td>\n",
              "      <td>1</td>\n",
              "      <td>0</td>\n",
              "      <td>113931.57</td>\n",
              "      <td>1</td>\n",
              "    </tr>\n",
              "    <tr>\n",
              "      <th>3</th>\n",
              "      <td>1</td>\n",
              "      <td>0</td>\n",
              "      <td>0</td>\n",
              "      <td>1</td>\n",
              "      <td>0</td>\n",
              "      <td>4</td>\n",
              "      <td>15701354</td>\n",
              "      <td>Boni</td>\n",
              "      <td>699</td>\n",
              "      <td>France</td>\n",
              "      <td>Female</td>\n",
              "      <td>39</td>\n",
              "      <td>1</td>\n",
              "      <td>0.00</td>\n",
              "      <td>2</td>\n",
              "      <td>0</td>\n",
              "      <td>0</td>\n",
              "      <td>93826.63</td>\n",
              "      <td>0</td>\n",
              "    </tr>\n",
              "    <tr>\n",
              "      <th>4</th>\n",
              "      <td>0</td>\n",
              "      <td>0</td>\n",
              "      <td>1</td>\n",
              "      <td>1</td>\n",
              "      <td>0</td>\n",
              "      <td>5</td>\n",
              "      <td>15737888</td>\n",
              "      <td>Mitchell</td>\n",
              "      <td>850</td>\n",
              "      <td>Spain</td>\n",
              "      <td>Female</td>\n",
              "      <td>43</td>\n",
              "      <td>2</td>\n",
              "      <td>125510.82</td>\n",
              "      <td>1</td>\n",
              "      <td>1</td>\n",
              "      <td>1</td>\n",
              "      <td>79084.10</td>\n",
              "      <td>0</td>\n",
              "    </tr>\n",
              "  </tbody>\n",
              "</table>\n",
              "</div>"
            ],
            "text/plain": [
              "   France  Germany  Spain  ...  IsActiveMember  EstimatedSalary  Exited\n",
              "0       1        0      0  ...               1        101348.88       1\n",
              "1       0        0      1  ...               1        112542.58       0\n",
              "2       1        0      0  ...               0        113931.57       1\n",
              "3       1        0      0  ...               0         93826.63       0\n",
              "4       0        0      1  ...               1         79084.10       0\n",
              "\n",
              "[5 rows x 19 columns]"
            ]
          },
          "metadata": {},
          "execution_count": 8
        }
      ]
    },
    {
      "cell_type": "code",
      "metadata": {
        "id": "TvgdG_MqQnoO"
      },
      "source": [
        "# Drop useless columns \n",
        "churn_dataset.drop(['RowNumber', 'CustomerId', 'Surname', 'Geography', 'Gender'], axis=1, inplace=True)"
      ],
      "execution_count": null,
      "outputs": []
    },
    {
      "cell_type": "code",
      "metadata": {
        "colab": {
          "base_uri": "https://localhost:8080/",
          "height": 221
        },
        "id": "_qByG34xQ62B",
        "outputId": "07d67bcd-9b96-4f82-b58f-1eecbb8e5ccc"
      },
      "source": [
        "print(churn_dataset.shape)\n",
        "churn_dataset.head()"
      ],
      "execution_count": null,
      "outputs": [
        {
          "output_type": "stream",
          "name": "stdout",
          "text": [
            "(10000, 14)\n"
          ]
        },
        {
          "output_type": "execute_result",
          "data": {
            "text/html": [
              "<div>\n",
              "<style scoped>\n",
              "    .dataframe tbody tr th:only-of-type {\n",
              "        vertical-align: middle;\n",
              "    }\n",
              "\n",
              "    .dataframe tbody tr th {\n",
              "        vertical-align: top;\n",
              "    }\n",
              "\n",
              "    .dataframe thead th {\n",
              "        text-align: right;\n",
              "    }\n",
              "</style>\n",
              "<table border=\"1\" class=\"dataframe\">\n",
              "  <thead>\n",
              "    <tr style=\"text-align: right;\">\n",
              "      <th></th>\n",
              "      <th>France</th>\n",
              "      <th>Germany</th>\n",
              "      <th>Spain</th>\n",
              "      <th>Female</th>\n",
              "      <th>Male</th>\n",
              "      <th>CreditScore</th>\n",
              "      <th>Age</th>\n",
              "      <th>Tenure</th>\n",
              "      <th>Balance</th>\n",
              "      <th>NumOfProducts</th>\n",
              "      <th>HasCrCard</th>\n",
              "      <th>IsActiveMember</th>\n",
              "      <th>EstimatedSalary</th>\n",
              "      <th>Exited</th>\n",
              "    </tr>\n",
              "  </thead>\n",
              "  <tbody>\n",
              "    <tr>\n",
              "      <th>0</th>\n",
              "      <td>1</td>\n",
              "      <td>0</td>\n",
              "      <td>0</td>\n",
              "      <td>1</td>\n",
              "      <td>0</td>\n",
              "      <td>619</td>\n",
              "      <td>42</td>\n",
              "      <td>2</td>\n",
              "      <td>0.00</td>\n",
              "      <td>1</td>\n",
              "      <td>1</td>\n",
              "      <td>1</td>\n",
              "      <td>101348.88</td>\n",
              "      <td>1</td>\n",
              "    </tr>\n",
              "    <tr>\n",
              "      <th>1</th>\n",
              "      <td>0</td>\n",
              "      <td>0</td>\n",
              "      <td>1</td>\n",
              "      <td>1</td>\n",
              "      <td>0</td>\n",
              "      <td>608</td>\n",
              "      <td>41</td>\n",
              "      <td>1</td>\n",
              "      <td>83807.86</td>\n",
              "      <td>1</td>\n",
              "      <td>0</td>\n",
              "      <td>1</td>\n",
              "      <td>112542.58</td>\n",
              "      <td>0</td>\n",
              "    </tr>\n",
              "    <tr>\n",
              "      <th>2</th>\n",
              "      <td>1</td>\n",
              "      <td>0</td>\n",
              "      <td>0</td>\n",
              "      <td>1</td>\n",
              "      <td>0</td>\n",
              "      <td>502</td>\n",
              "      <td>42</td>\n",
              "      <td>8</td>\n",
              "      <td>159660.80</td>\n",
              "      <td>3</td>\n",
              "      <td>1</td>\n",
              "      <td>0</td>\n",
              "      <td>113931.57</td>\n",
              "      <td>1</td>\n",
              "    </tr>\n",
              "    <tr>\n",
              "      <th>3</th>\n",
              "      <td>1</td>\n",
              "      <td>0</td>\n",
              "      <td>0</td>\n",
              "      <td>1</td>\n",
              "      <td>0</td>\n",
              "      <td>699</td>\n",
              "      <td>39</td>\n",
              "      <td>1</td>\n",
              "      <td>0.00</td>\n",
              "      <td>2</td>\n",
              "      <td>0</td>\n",
              "      <td>0</td>\n",
              "      <td>93826.63</td>\n",
              "      <td>0</td>\n",
              "    </tr>\n",
              "    <tr>\n",
              "      <th>4</th>\n",
              "      <td>0</td>\n",
              "      <td>0</td>\n",
              "      <td>1</td>\n",
              "      <td>1</td>\n",
              "      <td>0</td>\n",
              "      <td>850</td>\n",
              "      <td>43</td>\n",
              "      <td>2</td>\n",
              "      <td>125510.82</td>\n",
              "      <td>1</td>\n",
              "      <td>1</td>\n",
              "      <td>1</td>\n",
              "      <td>79084.10</td>\n",
              "      <td>0</td>\n",
              "    </tr>\n",
              "  </tbody>\n",
              "</table>\n",
              "</div>"
            ],
            "text/plain": [
              "   France  Germany  Spain  ...  IsActiveMember  EstimatedSalary  Exited\n",
              "0       1        0      0  ...               1        101348.88       1\n",
              "1       0        0      1  ...               1        112542.58       0\n",
              "2       1        0      0  ...               0        113931.57       1\n",
              "3       1        0      0  ...               0         93826.63       0\n",
              "4       0        0      1  ...               1         79084.10       0\n",
              "\n",
              "[5 rows x 14 columns]"
            ]
          },
          "metadata": {},
          "execution_count": 10
        }
      ]
    },
    {
      "cell_type": "code",
      "metadata": {
        "id": "2Z9pDv1WRVCc"
      },
      "source": [
        "# Split the churn_dataset to variables d target\n",
        "X = churn_dataset.iloc[:, :-1].values\n",
        "y = churn_dataset.iloc[:, -1].values"
      ],
      "execution_count": null,
      "outputs": []
    },
    {
      "cell_type": "code",
      "metadata": {
        "colab": {
          "base_uri": "https://localhost:8080/"
        },
        "id": "xYNvotTfRo8G",
        "outputId": "f6272b71-9eeb-4628-e230-d1b86a2e11ff"
      },
      "source": [
        "print(X.shape)\n",
        "print(y.shape)"
      ],
      "execution_count": null,
      "outputs": [
        {
          "output_type": "stream",
          "name": "stdout",
          "text": [
            "(10000, 13)\n",
            "(10000,)\n"
          ]
        }
      ]
    },
    {
      "cell_type": "code",
      "metadata": {
        "colab": {
          "base_uri": "https://localhost:8080/"
        },
        "id": "_KASFdeKRyhU",
        "outputId": "3f58cc2f-0af6-476b-96e4-4deea6270b8b"
      },
      "source": [
        "# Spiliting the data into training and testing \n",
        "X_train, X_test, y_train, y_test = train_test_split(X, y, \n",
        "                                                      test_size=0.2, \n",
        "                                                      random_state=42)\n",
        "print(X_train.shape)\n",
        "print(y_train.shape)"
      ],
      "execution_count": null,
      "outputs": [
        {
          "output_type": "stream",
          "name": "stdout",
          "text": [
            "(8000, 13)\n",
            "(8000,)\n"
          ]
        }
      ]
    },
    {
      "cell_type": "markdown",
      "metadata": {
        "id": "Xx0l8n3BrBGO"
      },
      "source": [
        "## Modeling:"
      ]
    },
    {
      "cell_type": "code",
      "metadata": {
        "id": "XNYD1KoarD5a"
      },
      "source": [
        "# Create Sequential Model (ANN using Keras)\n",
        "model = keras.models.Sequential()\n",
        "\n",
        "# Adding our layers\n",
        "model.add(layers.BatchNormalization(input_dim=13))\n",
        "model.add(layers.Dense(64, activation='relu', name='hidden_1'))\n",
        "model.add(layers.BatchNormalization())\n",
        "model.add(layers.Dense(16, activation='relu', name='hidden_2'))\n",
        "model.add(layers.Dense(1, activation='sigmoid', name='output'))"
      ],
      "execution_count": null,
      "outputs": []
    },
    {
      "cell_type": "code",
      "metadata": {
        "colab": {
          "base_uri": "https://localhost:8080/"
        },
        "id": "HybPtiMfZoZ8",
        "outputId": "a883b624-f42f-43de-b340-f4da488b0799"
      },
      "source": [
        "model.summary()"
      ],
      "execution_count": null,
      "outputs": [
        {
          "output_type": "stream",
          "name": "stdout",
          "text": [
            "Model: \"sequential\"\n",
            "_________________________________________________________________\n",
            " Layer (type)                Output Shape              Param #   \n",
            "=================================================================\n",
            " batch_normalization (BatchN  (None, 13)               52        \n",
            " ormalization)                                                   \n",
            "                                                                 \n",
            " hidden_1 (Dense)            (None, 64)                896       \n",
            "                                                                 \n",
            " batch_normalization_1 (Batc  (None, 64)               256       \n",
            " hNormalization)                                                 \n",
            "                                                                 \n",
            " hidden_2 (Dense)            (None, 16)                1040      \n",
            "                                                                 \n",
            " output (Dense)              (None, 1)                 17        \n",
            "                                                                 \n",
            "=================================================================\n",
            "Total params: 2,261\n",
            "Trainable params: 2,107\n",
            "Non-trainable params: 154\n",
            "_________________________________________________________________\n"
          ]
        }
      ]
    },
    {
      "cell_type": "code",
      "metadata": {
        "id": "LHsPY56ZZqRs"
      },
      "source": [
        "# Compiling the ANN\n",
        "model.compile(optimizer='sgd',\n",
        "              loss= 'binary_crossentropy', \n",
        "              metrics=['accuracy'])"
      ],
      "execution_count": null,
      "outputs": []
    },
    {
      "cell_type": "code",
      "metadata": {
        "colab": {
          "base_uri": "https://localhost:8080/"
        },
        "id": "P18U2ZL6bNel",
        "outputId": "b9a0c39b-67d1-4407-8982-c580e17c460e"
      },
      "source": [
        "# Creat checkpoint to save model at the end of each epoch:\n",
        "checkpoint_cb = keras.callbacks.ModelCheckpoint(\"churn_model.h5\", \n",
        "                                                save_best_only=True)\n",
        "\n",
        "# Creat early stopping checkpoint:\n",
        "early_stopping_cb = keras.callbacks.EarlyStopping(patience=10,\n",
        "                                                  restore_best_weights=True)\n",
        "\n",
        "# Fit the model\n",
        "history = model.fit(X_train, y_train,\n",
        "                    epochs=100,\n",
        "                    batch_size=24,\n",
        "                    validation_split=0.2,\n",
        "                    callbacks=[checkpoint_cb, early_stopping_cb])"
      ],
      "execution_count": null,
      "outputs": [
        {
          "output_type": "stream",
          "name": "stdout",
          "text": [
            "Epoch 1/100\n",
            "267/267 [==============================] - 2s 3ms/step - loss: 0.5036 - accuracy: 0.7748 - val_loss: 0.4442 - val_accuracy: 0.8087\n",
            "Epoch 2/100\n",
            "267/267 [==============================] - 1s 3ms/step - loss: 0.4456 - accuracy: 0.8112 - val_loss: 0.4141 - val_accuracy: 0.8181\n",
            "Epoch 3/100\n",
            "267/267 [==============================] - 1s 3ms/step - loss: 0.4241 - accuracy: 0.8191 - val_loss: 0.4002 - val_accuracy: 0.8256\n",
            "Epoch 4/100\n",
            "267/267 [==============================] - 1s 3ms/step - loss: 0.4155 - accuracy: 0.8238 - val_loss: 0.3907 - val_accuracy: 0.8350\n",
            "Epoch 5/100\n",
            "267/267 [==============================] - 1s 3ms/step - loss: 0.4061 - accuracy: 0.8258 - val_loss: 0.3823 - val_accuracy: 0.8444\n",
            "Epoch 6/100\n",
            "267/267 [==============================] - 1s 3ms/step - loss: 0.3937 - accuracy: 0.8345 - val_loss: 0.3737 - val_accuracy: 0.8444\n",
            "Epoch 7/100\n",
            "267/267 [==============================] - 1s 3ms/step - loss: 0.3879 - accuracy: 0.8347 - val_loss: 0.3688 - val_accuracy: 0.8469\n",
            "Epoch 8/100\n",
            "267/267 [==============================] - 1s 3ms/step - loss: 0.3785 - accuracy: 0.8413 - val_loss: 0.3617 - val_accuracy: 0.8469\n",
            "Epoch 9/100\n",
            "267/267 [==============================] - 1s 3ms/step - loss: 0.3766 - accuracy: 0.8380 - val_loss: 0.3590 - val_accuracy: 0.8537\n",
            "Epoch 10/100\n",
            "267/267 [==============================] - 1s 3ms/step - loss: 0.3679 - accuracy: 0.8453 - val_loss: 0.3544 - val_accuracy: 0.8537\n",
            "Epoch 11/100\n",
            "267/267 [==============================] - 1s 3ms/step - loss: 0.3728 - accuracy: 0.8405 - val_loss: 0.3541 - val_accuracy: 0.8531\n",
            "Epoch 12/100\n",
            "267/267 [==============================] - 1s 3ms/step - loss: 0.3642 - accuracy: 0.8458 - val_loss: 0.3519 - val_accuracy: 0.8531\n",
            "Epoch 13/100\n",
            "267/267 [==============================] - 1s 3ms/step - loss: 0.3589 - accuracy: 0.8483 - val_loss: 0.3494 - val_accuracy: 0.8525\n",
            "Epoch 14/100\n",
            "267/267 [==============================] - 1s 3ms/step - loss: 0.3620 - accuracy: 0.8448 - val_loss: 0.3478 - val_accuracy: 0.8550\n",
            "Epoch 15/100\n",
            "267/267 [==============================] - 1s 3ms/step - loss: 0.3571 - accuracy: 0.8494 - val_loss: 0.3472 - val_accuracy: 0.8550\n",
            "Epoch 16/100\n",
            "267/267 [==============================] - 1s 3ms/step - loss: 0.3527 - accuracy: 0.8492 - val_loss: 0.3460 - val_accuracy: 0.8544\n",
            "Epoch 17/100\n",
            "267/267 [==============================] - 1s 2ms/step - loss: 0.3562 - accuracy: 0.8489 - val_loss: 0.3484 - val_accuracy: 0.8537\n",
            "Epoch 18/100\n",
            "267/267 [==============================] - 1s 3ms/step - loss: 0.3514 - accuracy: 0.8520 - val_loss: 0.3467 - val_accuracy: 0.8525\n",
            "Epoch 19/100\n",
            "267/267 [==============================] - 1s 2ms/step - loss: 0.3525 - accuracy: 0.8531 - val_loss: 0.3466 - val_accuracy: 0.8569\n",
            "Epoch 20/100\n",
            "267/267 [==============================] - 1s 3ms/step - loss: 0.3557 - accuracy: 0.8522 - val_loss: 0.3461 - val_accuracy: 0.8562\n",
            "Epoch 21/100\n",
            "267/267 [==============================] - 1s 3ms/step - loss: 0.3478 - accuracy: 0.8537 - val_loss: 0.3458 - val_accuracy: 0.8556\n",
            "Epoch 22/100\n",
            "267/267 [==============================] - 1s 3ms/step - loss: 0.3489 - accuracy: 0.8561 - val_loss: 0.3456 - val_accuracy: 0.8531\n",
            "Epoch 23/100\n",
            "267/267 [==============================] - 1s 3ms/step - loss: 0.3421 - accuracy: 0.8567 - val_loss: 0.3468 - val_accuracy: 0.8562\n",
            "Epoch 24/100\n",
            "267/267 [==============================] - 1s 2ms/step - loss: 0.3458 - accuracy: 0.8556 - val_loss: 0.3456 - val_accuracy: 0.8575\n",
            "Epoch 25/100\n",
            "267/267 [==============================] - 1s 3ms/step - loss: 0.3433 - accuracy: 0.8558 - val_loss: 0.3459 - val_accuracy: 0.8575\n",
            "Epoch 26/100\n",
            "267/267 [==============================] - 1s 3ms/step - loss: 0.3464 - accuracy: 0.8542 - val_loss: 0.3454 - val_accuracy: 0.8550\n",
            "Epoch 27/100\n",
            "267/267 [==============================] - 1s 3ms/step - loss: 0.3440 - accuracy: 0.8547 - val_loss: 0.3441 - val_accuracy: 0.8562\n",
            "Epoch 28/100\n",
            "267/267 [==============================] - 1s 3ms/step - loss: 0.3455 - accuracy: 0.8525 - val_loss: 0.3471 - val_accuracy: 0.8562\n",
            "Epoch 29/100\n",
            "267/267 [==============================] - 1s 3ms/step - loss: 0.3459 - accuracy: 0.8564 - val_loss: 0.3452 - val_accuracy: 0.8537\n",
            "Epoch 30/100\n",
            "267/267 [==============================] - 1s 3ms/step - loss: 0.3415 - accuracy: 0.8569 - val_loss: 0.3450 - val_accuracy: 0.8575\n",
            "Epoch 31/100\n",
            "267/267 [==============================] - 1s 3ms/step - loss: 0.3400 - accuracy: 0.8566 - val_loss: 0.3473 - val_accuracy: 0.8569\n",
            "Epoch 32/100\n",
            "267/267 [==============================] - 1s 3ms/step - loss: 0.3404 - accuracy: 0.8558 - val_loss: 0.3461 - val_accuracy: 0.8556\n",
            "Epoch 33/100\n",
            "267/267 [==============================] - 1s 3ms/step - loss: 0.3403 - accuracy: 0.8580 - val_loss: 0.3444 - val_accuracy: 0.8556\n",
            "Epoch 34/100\n",
            "267/267 [==============================] - 1s 3ms/step - loss: 0.3413 - accuracy: 0.8567 - val_loss: 0.3462 - val_accuracy: 0.8575\n",
            "Epoch 35/100\n",
            "267/267 [==============================] - 1s 2ms/step - loss: 0.3389 - accuracy: 0.8580 - val_loss: 0.3472 - val_accuracy: 0.8581\n",
            "Epoch 36/100\n",
            "267/267 [==============================] - 1s 2ms/step - loss: 0.3374 - accuracy: 0.8577 - val_loss: 0.3456 - val_accuracy: 0.8569\n",
            "Epoch 37/100\n",
            "267/267 [==============================] - 1s 3ms/step - loss: 0.3417 - accuracy: 0.8534 - val_loss: 0.3459 - val_accuracy: 0.8550\n"
          ]
        }
      ]
    },
    {
      "cell_type": "code",
      "metadata": {
        "colab": {
          "base_uri": "https://localhost:8080/",
          "height": 320
        },
        "id": "wlvzgb5jc2GA",
        "outputId": "97e00002-103c-417e-9dc9-0193b3a97065"
      },
      "source": [
        "# Plot training vs. validation loss and accuracy\n",
        "learning_data = pd.DataFrame(history.history)\n",
        "learning_data.plot(figsize=(10, 5))\n",
        "plt.grid(True)\n",
        "plt.show()"
      ],
      "execution_count": null,
      "outputs": [
        {
          "output_type": "display_data",
          "data": {
            "image/png": "[encoded data removed]",
            "text/plain": [
              "<Figure size 720x360 with 1 Axes>"
            ]
          },
          "metadata": {
            "needs_background": "light"
          }
        }
      ]
    },
    {
      "cell_type": "code",
      "metadata": {
        "colab": {
          "base_uri": "https://localhost:8080/"
        },
        "id": "Uj4P-skvdpgw",
        "outputId": "72407091-125b-41d0-99d5-b57b512e1823"
      },
      "source": [
        "# Predicting the test set\n",
        "prediction = model.predict(X_test)\n",
        "prediction = (prediction > 0.5)\n",
        "prediction"
      ],
      "execution_count": null,
      "outputs": [
        {
          "output_type": "execute_result",
          "data": {
            "text/plain": [
              "array([[False],\n",
              "       [False],\n",
              "       [False],\n",
              "       ...,\n",
              "       [ True],\n",
              "       [False],\n",
              "       [False]])"
            ]
          },
          "metadata": {},
          "execution_count": 19
        }
      ]
    },
    {
      "cell_type": "code",
      "metadata": {
        "colab": {
          "base_uri": "https://localhost:8080/"
        },
        "id": "WEzv7kgrdq9V",
        "outputId": "ebde1060-71db-4980-cfbd-7c146b0e5fba"
      },
      "source": [
        "# Evaluate the model \n",
        "model.evaluate(X_test, y_test)"
      ],
      "execution_count": null,
      "outputs": [
        {
          "output_type": "stream",
          "name": "stdout",
          "text": [
            "63/63 [==============================] - 0s 2ms/step - loss: 0.3398 - accuracy: 0.8660\n"
          ]
        },
        {
          "output_type": "execute_result",
          "data": {
            "text/plain": [
              "[0.33979561924934387, 0.8659999966621399]"
            ]
          },
          "metadata": {},
          "execution_count": 20
        }
      ]
    }
  ]
}